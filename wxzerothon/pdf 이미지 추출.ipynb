{
 "cells": [
  {
   "cell_type": "code",
   "execution_count": 6,
   "metadata": {},
   "outputs": [
    {
     "name": "stdout",
     "output_type": "stream",
     "text": [
      "Saved: output/page1_img1.jpeg\n",
      "Saved: output/page1_img2.jpeg\n",
      "Saved: output/page1_img3.jpeg\n",
      "Saved: output/page1_img4.jpeg\n",
      "Saved: output/page1_img5.jpeg\n",
      "Saved: output/page1_img6.jpeg\n",
      "Saved: output/page1_img7.jpeg\n",
      "Saved: output/page1_img8.jpeg\n",
      "Saved: output/page1_img9.jpeg\n",
      "Saved: output/page1_img10.jpeg\n",
      "Saved: output/page1_img11.jpeg\n",
      "Saved: output/page1_img12.jpeg\n",
      "Saved: output/page1_img13.jpeg\n",
      "Saved: output/page1_img14.jpeg\n",
      "Saved: output/page1_img15.jpeg\n",
      "Saved: output/page1_img16.jpeg\n",
      "Saved: output/page1_img17.jpeg\n",
      "Saved: output/page1_img18.jpeg\n",
      "Saved: output/page1_img19.jpeg\n",
      "Saved: output/page1_img20.jpeg\n",
      "Saved: output/page1_img21.jpeg\n",
      "Saved: output/page1_img22.jpeg\n",
      "Saved: output/page1_img23.jpeg\n",
      "Saved: output/page1_img24.jpeg\n",
      "Saved: output/page1_img25.jpeg\n",
      "Saved: output/page1_img26.jpeg\n",
      "Saved: output/page1_img27.jpeg\n",
      "Saved: output/page1_img28.jpeg\n",
      "Saved: output/page1_img29.jpeg\n",
      "Saved: output/page1_img30.jpeg\n",
      "Saved: output/page1_img31.jpeg\n",
      "Saved: output/page1_img32.jpeg\n",
      "Saved: output/page1_img33.jpeg\n",
      "Saved: output/page1_img34.jpeg\n",
      "Saved: output/page1_img35.jpeg\n",
      "Saved: output/page1_img36.jpeg\n",
      "✅ 모든 이미지 추출 완료\n"
     ]
    }
   ],
   "source": [
    "import os\n",
    "import fitz  # PyMuPDF\n",
    "\n",
    "def extract_images_from_pdf(pdf_path, output_folder):\n",
    "    os.makedirs(output_folder, exist_ok=True)\n",
    "    doc = fitz.open(pdf_path)\n",
    "    for page_num in range(len(doc)):\n",
    "        page = doc[page_num]\n",
    "        images = page.get_images(full=True)\n",
    "        for img_index, img in enumerate(images):\n",
    "            xref = img[0]\n",
    "            base_image = doc.extract_image(xref)\n",
    "            image_bytes = base_image[\"image\"]\n",
    "            image_ext = base_image[\"ext\"]\n",
    "            image_filename = f\"{output_folder}/page{page_num+1}_img{img_index+1}.{image_ext}\"\n",
    "            with open(image_filename, \"wb\") as img_file:\n",
    "                img_file.write(image_bytes)\n",
    "            print(f\"Saved: {image_filename}\")\n",
    "    print(\"✅ 모든 이미지 추출 완료\")\n",
    "\n",
    "# 사용 예:\n",
    "extract_images_from_pdf(\"D:/Downloads/poster1.pdf\", \"output\")"
   ]
  },
  {
   "cell_type": "code",
   "execution_count": 8,
   "metadata": {},
   "outputs": [
    {
     "name": "stdout",
     "output_type": "stream",
     "text": [
      "✅ 이미지 저장 완료: clipboard_image.png\n"
     ]
    }
   ],
   "source": [
    "from PIL import ImageGrab\n",
    "\n",
    "def save_clipboard_image(output_path):\n",
    "    image = ImageGrab.grabclipboard()\n",
    "    if image is None:\n",
    "        print(\"❌ 클립보드에 이미지가 없습니다.\")\n",
    "    else:\n",
    "        image.save(output_path)\n",
    "        print(f\"✅ 이미지 저장 완료: {output_path}\")\n",
    "\n",
    "# 예시 사용:\n",
    "save_clipboard_image(\"clipboard_image.png\")"
   ]
  }
 ],
 "metadata": {
  "kernelspec": {
   "display_name": "venv_common",
   "language": "python",
   "name": "python3"
  },
  "language_info": {
   "codemirror_mode": {
    "name": "ipython",
    "version": 3
   },
   "file_extension": ".py",
   "mimetype": "text/x-python",
   "name": "python",
   "nbconvert_exporter": "python",
   "pygments_lexer": "ipython3",
   "version": "3.11.9"
  }
 },
 "nbformat": 4,
 "nbformat_minor": 2
}
