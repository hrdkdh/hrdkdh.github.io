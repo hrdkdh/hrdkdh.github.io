{
 "cells": [
  {
   "cell_type": "code",
   "execution_count": 1,
   "metadata": {},
   "outputs": [],
   "source": [
    "import pandas as pd"
   ]
  },
  {
   "cell_type": "code",
   "execution_count": 4,
   "metadata": {},
   "outputs": [
    {
     "data": {
      "text/html": [
       "<div>\n",
       "<style scoped>\n",
       "    .dataframe tbody tr th:only-of-type {\n",
       "        vertical-align: middle;\n",
       "    }\n",
       "\n",
       "    .dataframe tbody tr th {\n",
       "        vertical-align: top;\n",
       "    }\n",
       "\n",
       "    .dataframe thead th {\n",
       "        text-align: right;\n",
       "    }\n",
       "</style>\n",
       "<table border=\"1\" class=\"dataframe\">\n",
       "  <thead>\n",
       "    <tr style=\"text-align: right;\">\n",
       "      <th></th>\n",
       "      <th>장</th>\n",
       "      <th>소제목</th>\n",
       "      <th>프롬프트</th>\n",
       "    </tr>\n",
       "  </thead>\n",
       "  <tbody>\n",
       "    <tr>\n",
       "      <th>0</th>\n",
       "      <td>1. 생성 AI 개요</td>\n",
       "      <td>동영상 생성 프롬프트 예제</td>\n",
       "      <td>다음 내용으로 Sora에서 동영상을 생성하는 프롬프트를 만들어줘\\n- 야외 정원에 ...</td>\n",
       "    </tr>\n",
       "    <tr>\n",
       "      <th>1</th>\n",
       "      <td>1. 생성 AI 개요</td>\n",
       "      <td>NapKin AI 실습</td>\n",
       "      <td>보고서 작성을 잘하는 방법을 설명해 줘</td>\n",
       "    </tr>\n",
       "    <tr>\n",
       "      <th>2</th>\n",
       "      <td>1. 생성 AI 개요</td>\n",
       "      <td>감마 실습</td>\n",
       "      <td>지금 업로드한 pdf로 ppt를 만들려고해,\\npdf를 8페이지 분량으로 구조화해서...</td>\n",
       "    </tr>\n",
       "    <tr>\n",
       "      <th>3</th>\n",
       "      <td>1. 생성 AI 개요</td>\n",
       "      <td>recraft 실습</td>\n",
       "      <td>사무실에서 두명의 직원이 대화하는 모습</td>\n",
       "    </tr>\n",
       "    <tr>\n",
       "      <th>4</th>\n",
       "      <td>2. ChatGPT 알아보기</td>\n",
       "      <td>프롬프트 구성</td>\n",
       "      <td>넌 서울대 대학병원 내과 의사야!\\n나는 고지혈증과 고혈압 증세가 있어\\n규칙적인 ...</td>\n",
       "    </tr>\n",
       "    <tr>\n",
       "      <th>...</th>\n",
       "      <td>...</td>\n",
       "      <td>...</td>\n",
       "      <td>...</td>\n",
       "    </tr>\n",
       "    <tr>\n",
       "      <th>78</th>\n",
       "      <td>6. 보고서 초안 작성</td>\n",
       "      <td>보고서 초안 작성 : GPTs 활용</td>\n",
       "      <td>전기차 수요 둔화에 따른 2차전지산업 대응방안'에 보고서를 작성해줘, \\n들어갈 내...</td>\n",
       "    </tr>\n",
       "    <tr>\n",
       "      <th>79</th>\n",
       "      <td>6. 보고서 초안 작성</td>\n",
       "      <td>보고서 초안 작성 : GPTs 활용</td>\n",
       "      <td>글로벌 재생 에너지 전망 보고서를 작성해야해, 관련 내용을 검색하고 구조화하여 목차...</td>\n",
       "    </tr>\n",
       "    <tr>\n",
       "      <th>80</th>\n",
       "      <td>6. 보고서 초안 작성</td>\n",
       "      <td>일정 예약</td>\n",
       "      <td>매주 월, 수, 금 아침 6시마다 “런닝” 리마인드 시켜주고, 뛰면서 들을 노래 플...</td>\n",
       "    </tr>\n",
       "    <tr>\n",
       "      <th>81</th>\n",
       "      <td>6. 보고서 초안 작성</td>\n",
       "      <td>일정 예약</td>\n",
       "      <td>매일 오후 12시마다 테슬라 주가 알려주고, 오늘의 주가에 영향을 끼쳤을만한 뉴스를...</td>\n",
       "    </tr>\n",
       "    <tr>\n",
       "      <th>82</th>\n",
       "      <td>부록</td>\n",
       "      <td>테트리스 게임만들기</td>\n",
       "      <td>웹에서 구동되는 테트리스 게임을 만들어줘\\n- html과 자바스크립트로 하나의 파일...</td>\n",
       "    </tr>\n",
       "  </tbody>\n",
       "</table>\n",
       "<p>83 rows × 3 columns</p>\n",
       "</div>"
      ],
      "text/plain": [
       "                  장                  소제목  \\\n",
       "0       1. 생성 AI 개요       동영상 생성 프롬프트 예제   \n",
       "1       1. 생성 AI 개요         NapKin AI 실습   \n",
       "2       1. 생성 AI 개요                감마 실습   \n",
       "3       1. 생성 AI 개요           recraft 실습   \n",
       "4   2. ChatGPT 알아보기              프롬프트 구성   \n",
       "..              ...                  ...   \n",
       "78     6. 보고서 초안 작성  보고서 초안 작성 : GPTs 활용   \n",
       "79     6. 보고서 초안 작성  보고서 초안 작성 : GPTs 활용   \n",
       "80     6. 보고서 초안 작성                일정 예약   \n",
       "81     6. 보고서 초안 작성                일정 예약   \n",
       "82               부록           테트리스 게임만들기   \n",
       "\n",
       "                                                 프롬프트  \n",
       "0   다음 내용으로 Sora에서 동영상을 생성하는 프롬프트를 만들어줘\\n- 야외 정원에 ...  \n",
       "1                               보고서 작성을 잘하는 방법을 설명해 줘  \n",
       "2   지금 업로드한 pdf로 ppt를 만들려고해,\\npdf를 8페이지 분량으로 구조화해서...  \n",
       "3                               사무실에서 두명의 직원이 대화하는 모습  \n",
       "4   넌 서울대 대학병원 내과 의사야!\\n나는 고지혈증과 고혈압 증세가 있어\\n규칙적인 ...  \n",
       "..                                                ...  \n",
       "78  전기차 수요 둔화에 따른 2차전지산업 대응방안'에 보고서를 작성해줘, \\n들어갈 내...  \n",
       "79  글로벌 재생 에너지 전망 보고서를 작성해야해, 관련 내용을 검색하고 구조화하여 목차...  \n",
       "80  매주 월, 수, 금 아침 6시마다 “런닝” 리마인드 시켜주고, 뛰면서 들을 노래 플...  \n",
       "81  매일 오후 12시마다 테슬라 주가 알려주고, 오늘의 주가에 영향을 끼쳤을만한 뉴스를...  \n",
       "82  웹에서 구동되는 테트리스 게임을 만들어줘\\n- html과 자바스크립트로 하나의 파일...  \n",
       "\n",
       "[83 rows x 3 columns]"
      ]
     },
     "execution_count": 4,
     "metadata": {},
     "output_type": "execute_result"
    }
   ],
   "source": [
    "df = pd.read_clipboard(sep=\"\\t\")\n",
    "df"
   ]
  },
  {
   "cell_type": "code",
   "execution_count": 5,
   "metadata": {},
   "outputs": [],
   "source": [
    "df = df.apply(lambda x: x.str.strip(), axis=1)"
   ]
  },
  {
   "cell_type": "code",
   "execution_count": 6,
   "metadata": {},
   "outputs": [],
   "source": [
    "result = {}\n",
    "for chapter in df[\"장\"].unique():\n",
    "    chapter = chapter.strip()\n",
    "    result[chapter] = {}\n",
    "    for title in df[df[\"장\"] == chapter][\"소제목\"].unique():\n",
    "        title = title.strip()\n",
    "        if title not in result[chapter]:\n",
    "            prompts_src = [x.strip() for x in df[(df[\"장\"] == chapter) & (df[\"소제목\"] == title)][\"프롬프트\"].tolist()]\n",
    "            prompts = []\n",
    "            for prompt in prompts_src:\n",
    "                prompts.append({\n",
    "                    \"프롬프트\": prompt,\n",
    "                    \"추가자료\": \"\",\n",
    "                    \"복사여부\": True\n",
    "                })\n",
    "            result[chapter][title] = prompts"
   ]
  },
  {
   "cell_type": "code",
   "execution_count": 9,
   "metadata": {},
   "outputs": [
    {
     "data": {
      "text/plain": [
       "20673"
      ]
     },
     "execution_count": 9,
     "metadata": {},
     "output_type": "execute_result"
    }
   ],
   "source": [
    "import json\n",
    "open(r\"wx_team_leader/data.json\", \"w\", encoding=\"utf-8\").write(json.dumps(result, ensure_ascii=False, indent=4))"
   ]
  },
  {
   "cell_type": "code",
   "execution_count": 8,
   "metadata": {},
   "outputs": [
    {
     "data": {
      "text/plain": [
       "83"
      ]
     },
     "execution_count": 8,
     "metadata": {},
     "output_type": "execute_result"
    }
   ],
   "source": [
    "count = 0\n",
    "for item in result:\n",
    "    for title in result[item]:\n",
    "        for prompt in result[item][title]:\n",
    "            count = count + 1\n",
    "            # print(prompt, \"\\n\")\n",
    "count"
   ]
  }
 ],
 "metadata": {
  "kernelspec": {
   "display_name": "venv_common",
   "language": "python",
   "name": "python3"
  },
  "language_info": {
   "codemirror_mode": {
    "name": "ipython",
    "version": 3
   },
   "file_extension": ".py",
   "mimetype": "text/x-python",
   "name": "python",
   "nbconvert_exporter": "python",
   "pygments_lexer": "ipython3",
   "version": "3.11.9"
  }
 },
 "nbformat": 4,
 "nbformat_minor": 2
}
