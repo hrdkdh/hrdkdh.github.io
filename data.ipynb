{
 "cells": [
  {
   "cell_type": "code",
   "execution_count": 5,
   "metadata": {},
   "outputs": [],
   "source": [
    "import pandas as pd"
   ]
  },
  {
   "cell_type": "code",
   "execution_count": 6,
   "metadata": {},
   "outputs": [
    {
     "data": {
      "text/html": [
       "<div>\n",
       "<style scoped>\n",
       "    .dataframe tbody tr th:only-of-type {\n",
       "        vertical-align: middle;\n",
       "    }\n",
       "\n",
       "    .dataframe tbody tr th {\n",
       "        vertical-align: top;\n",
       "    }\n",
       "\n",
       "    .dataframe thead th {\n",
       "        text-align: right;\n",
       "    }\n",
       "</style>\n",
       "<table border=\"1\" class=\"dataframe\">\n",
       "  <thead>\n",
       "    <tr style=\"text-align: right;\">\n",
       "      <th></th>\n",
       "      <th>장</th>\n",
       "      <th>소제목</th>\n",
       "      <th>프롬프트</th>\n",
       "    </tr>\n",
       "  </thead>\n",
       "  <tbody>\n",
       "    <tr>\n",
       "      <th>0</th>\n",
       "      <td>1장</td>\n",
       "      <td>동영상 생성 프롬프트 예제</td>\n",
       "      <td>다음 내용으로 Sora에서 동영상을 생성하는 프롬프트를 만들어줘\\n- 야외 정원에 ...</td>\n",
       "    </tr>\n",
       "    <tr>\n",
       "      <th>1</th>\n",
       "      <td>1장</td>\n",
       "      <td>replit으로 웹 앱 개발하기</td>\n",
       "      <td>replit을 이용해 설문조사 웹페이지를 만드는 프롬프트 생성해줘\\n- 파이썬 플라...</td>\n",
       "    </tr>\n",
       "    <tr>\n",
       "      <th>2</th>\n",
       "      <td>2장</td>\n",
       "      <td>하이퍼 파라미터 예제</td>\n",
       "      <td>“Temperature = 0.1\", \"Max Length = 100\" 으로  설정...</td>\n",
       "    </tr>\n",
       "    <tr>\n",
       "      <th>3</th>\n",
       "      <td>2장</td>\n",
       "      <td>하이퍼 파라미터 예제</td>\n",
       "      <td>“Temperature = 2\", \"Max Length = 100\" 으로  설정해서...</td>\n",
       "    </tr>\n",
       "    <tr>\n",
       "      <th>4</th>\n",
       "      <td>2장</td>\n",
       "      <td>프롬프트 예제 1</td>\n",
       "      <td>지금부터 아래 조건을 지켜줘\\n 1. ‘top_p= temperature=0.1’을...</td>\n",
       "    </tr>\n",
       "    <tr>\n",
       "      <th>...</th>\n",
       "      <td>...</td>\n",
       "      <td>...</td>\n",
       "      <td>...</td>\n",
       "    </tr>\n",
       "    <tr>\n",
       "      <th>69</th>\n",
       "      <td>7장</td>\n",
       "      <td>⑧ User interface</td>\n",
       "      <td>아래사항을 참조해서 코드를 보완해줘 \\n1. streamlit을 이용해서 웹 앱을 ...</td>\n",
       "    </tr>\n",
       "    <tr>\n",
       "      <th>70</th>\n",
       "      <td>7장</td>\n",
       "      <td>Cursor AI로 rag 구현하기</td>\n",
       "      <td>파이썬 langchain 패키지를 이용해서 rag를 만들어줘\\n- flask 패키지...</td>\n",
       "    </tr>\n",
       "    <tr>\n",
       "      <th>71</th>\n",
       "      <td>7장</td>\n",
       "      <td>rag 기반 계약서 검토 웹 만들기</td>\n",
       "      <td>내가 만들려고 하는 웹 시스템은 아래와 같아\\n0. 제목 : LLM 기반 계약서 검...</td>\n",
       "    </tr>\n",
       "    <tr>\n",
       "      <th>72</th>\n",
       "      <td>8장</td>\n",
       "      <td>Cursor AI로 재고관리 웹 개발</td>\n",
       "      <td>소형창고의 재고관리 웹을 만들어줘\\n\\n1. 개요\\n - 파이썬 flask를 이용해...</td>\n",
       "    </tr>\n",
       "    <tr>\n",
       "      <th>73</th>\n",
       "      <td>8장</td>\n",
       "      <td>연습문제 : 예측 시스템 개발</td>\n",
       "      <td>1. 제목 : 예측 시스템\\n\\n2. 개요\\n- 파이썬을 flask를 활용해서 예측...</td>\n",
       "    </tr>\n",
       "  </tbody>\n",
       "</table>\n",
       "<p>74 rows × 3 columns</p>\n",
       "</div>"
      ],
      "text/plain": [
       "     장                   소제목  \\\n",
       "0   1장        동영상 생성 프롬프트 예제   \n",
       "1   1장     replit으로 웹 앱 개발하기   \n",
       "2   2장           하이퍼 파라미터 예제   \n",
       "3   2장           하이퍼 파라미터 예제   \n",
       "4   2장             프롬프트 예제 1   \n",
       "..  ..                   ...   \n",
       "69  7장      ⑧ User interface   \n",
       "70  7장   Cursor AI로 rag 구현하기   \n",
       "71  7장   rag 기반 계약서 검토 웹 만들기   \n",
       "72  8장  Cursor AI로 재고관리 웹 개발   \n",
       "73  8장     연습문제 : 예측 시스템 개발    \n",
       "\n",
       "                                                 프롬프트  \n",
       "0   다음 내용으로 Sora에서 동영상을 생성하는 프롬프트를 만들어줘\\n- 야외 정원에 ...  \n",
       "1   replit을 이용해 설문조사 웹페이지를 만드는 프롬프트 생성해줘\\n- 파이썬 플라...  \n",
       "2   “Temperature = 0.1\", \"Max Length = 100\" 으로  설정...  \n",
       "3   “Temperature = 2\", \"Max Length = 100\" 으로  설정해서...  \n",
       "4   지금부터 아래 조건을 지켜줘\\n 1. ‘top_p= temperature=0.1’을...  \n",
       "..                                                ...  \n",
       "69  아래사항을 참조해서 코드를 보완해줘 \\n1. streamlit을 이용해서 웹 앱을 ...  \n",
       "70  파이썬 langchain 패키지를 이용해서 rag를 만들어줘\\n- flask 패키지...  \n",
       "71  내가 만들려고 하는 웹 시스템은 아래와 같아\\n0. 제목 : LLM 기반 계약서 검...  \n",
       "72  소형창고의 재고관리 웹을 만들어줘\\n\\n1. 개요\\n - 파이썬 flask를 이용해...  \n",
       "73  1. 제목 : 예측 시스템\\n\\n2. 개요\\n- 파이썬을 flask를 활용해서 예측...  \n",
       "\n",
       "[74 rows x 3 columns]"
      ]
     },
     "execution_count": 6,
     "metadata": {},
     "output_type": "execute_result"
    }
   ],
   "source": [
    "df = pd.read_clipboard(sep=\"\\t\")\n",
    "df"
   ]
  },
  {
   "cell_type": "code",
   "execution_count": 7,
   "metadata": {},
   "outputs": [],
   "source": [
    "df = df.apply(lambda x: x.str.strip(), axis=1)"
   ]
  },
  {
   "cell_type": "code",
   "execution_count": 8,
   "metadata": {},
   "outputs": [],
   "source": [
    "result = {}\n",
    "for chapter in df[\"장\"].unique():\n",
    "    chapter = chapter.strip()\n",
    "    result[chapter] = {}\n",
    "    for title in df[df[\"장\"] == chapter][\"소제목\"].unique():\n",
    "        title = title.strip()\n",
    "        if title not in result[chapter]:\n",
    "            prompts_src = [x.strip() for x in df[(df[\"장\"] == chapter) & (df[\"소제목\"] == title)][\"프롬프트\"].tolist()]\n",
    "            prompts = []\n",
    "            for prompt in prompts_src:\n",
    "                prompts.append({\n",
    "                    \"프롬프트\": prompt,\n",
    "                    \"추가자료\": \"\",\n",
    "                    \"복사여부\": True\n",
    "                })\n",
    "            result[chapter][title] = prompts"
   ]
  },
  {
   "cell_type": "code",
   "execution_count": 9,
   "metadata": {},
   "outputs": [
    {
     "data": {
      "text/plain": [
       "23878"
      ]
     },
     "execution_count": 9,
     "metadata": {},
     "output_type": "execute_result"
    }
   ],
   "source": [
    "import json\n",
    "open(r\"wxpro/data.json\", \"w\", encoding=\"utf-8\").write(json.dumps(result, ensure_ascii=False, indent=4))"
   ]
  },
  {
   "cell_type": "code",
   "execution_count": 10,
   "metadata": {},
   "outputs": [
    {
     "data": {
      "text/plain": [
       "74"
      ]
     },
     "execution_count": 10,
     "metadata": {},
     "output_type": "execute_result"
    }
   ],
   "source": [
    "count = 0\n",
    "for item in result:\n",
    "    for title in result[item]:\n",
    "        for prompt in result[item][title]:\n",
    "            count = count + 1\n",
    "            # print(prompt, \"\\n\")\n",
    "count"
   ]
  }
 ],
 "metadata": {
  "kernelspec": {
   "display_name": "venv_common",
   "language": "python",
   "name": "python3"
  },
  "language_info": {
   "codemirror_mode": {
    "name": "ipython",
    "version": 3
   },
   "file_extension": ".py",
   "mimetype": "text/x-python",
   "name": "python",
   "nbconvert_exporter": "python",
   "pygments_lexer": "ipython3",
   "version": "3.11.9"
  }
 },
 "nbformat": 4,
 "nbformat_minor": 2
}
