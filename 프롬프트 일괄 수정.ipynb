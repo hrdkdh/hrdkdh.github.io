{
 "cells": [
  {
   "cell_type": "code",
   "execution_count": 28,
   "metadata": {},
   "outputs": [
    {
     "name": "stdout",
     "output_type": "stream",
     "text": [
      "Updated data.json in pgpt_multimodal\n",
      "Updated data.json in pgpt_multimodal_hds\n",
      "Updated data.json in posco1\n",
      "Updated data.json in poscogroup\n",
      "Updated data.json in posri\n",
      "Updated data.json in wxbasic\n",
      "Updated data.json in wxbasic_pgu\n",
      "Updated data.json in wxleader\n"
     ]
    }
   ],
   "source": [
    "import os\n",
    "import json\n",
    "\n",
    "dirs = os.listdir('.')\n",
    "dirs = [d for d in dirs if os.path.isdir(d) and not d.startswith('.')]\n",
    "for dir in dirs:\n",
    "    for file in os.listdir(\"./{}\".format(dir)):\n",
    "        if file == \"data.json\":\n",
    "            data = open(\"./{}/data.json\".format(dir), \"r\", encoding=\"utf-8\").read().replace(\"data_json =\", \"\")\n",
    "            data_json = json.loads(data)\n",
    "            for k, v in data_json.items():\n",
    "                if \"★\" not in k:\n",
    "                    for k2, v2 in v.items():\n",
    "                        new_item = []\n",
    "                        for item in v2:\n",
    "                            new_item.append({\n",
    "                                \"프롬프트\" : item,\n",
    "                                \"추가자료\" : \"\",\n",
    "                                \"복사여부\" : True\n",
    "                            })\n",
    "                        data_json[k][k2] = new_item\n",
    "                else:\n",
    "                    for k2, v2 in v.items():\n",
    "                        new_item = []\n",
    "                        for item in v2:\n",
    "                            item[\"복사여부\"] = False\n",
    "                            new_item.append(item)\n",
    "                        data_json[k][k2] = new_item\n",
    "            with open(\"./{}/data.json\".format(dir), \"w\", encoding=\"utf-8\") as f:\n",
    "                f.write(\"data_json = \")\n",
    "                f.write(json.dumps(data_json, ensure_ascii=False, indent=4))\n",
    "            print(f\"Updated data.json in {dir}\")"
   ]
  }
 ],
 "metadata": {
  "kernelspec": {
   "display_name": "venv_common",
   "language": "python",
   "name": "python3"
  },
  "language_info": {
   "codemirror_mode": {
    "name": "ipython",
    "version": 3
   },
   "file_extension": ".py",
   "mimetype": "text/x-python",
   "name": "python",
   "nbconvert_exporter": "python",
   "pygments_lexer": "ipython3",
   "version": "3.11.9"
  }
 },
 "nbformat": 4,
 "nbformat_minor": 2
}
